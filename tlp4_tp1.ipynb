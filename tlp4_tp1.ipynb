{
 "cells": [
  {
   "cell_type": "markdown",
   "id": "95c1b5d3",
   "metadata": {},
   "source": [
    "1) ¿Qué diferencias, ventajas y desventajas encontrás entre usar funciones constructoras con prototype y usar class?\n",
    "\n",
    "Respuesta: Ambas cumplen la misma función, pero Class fue echo para ser más sensillo de utilizar."
   ]
  },
  {
   "cell_type": "markdown",
   "id": "14f76359",
   "metadata": {},
   "source": [
    "2) ¿Cuáles son las ventajas de usar getters y setters?\n",
    "\n",
    "Ventajas:\n",
    "\n",
    "- Encapsulación: Permite esconder detalles del código y solo mostrar lo necesario.\n",
    "\n",
    "- Validación de datos: Permite validaciones para prevenir que asignen valores incorrectos.\n",
    "\n",
    "- Da una interface más limpia."
   ]
  }
 ],
 "metadata": {
  "kernelspec": {
   "display_name": "Python 3",
   "language": "python",
   "name": "python3"
  },
  "language_info": {
   "codemirror_mode": {
    "name": "ipython",
    "version": 3
   },
   "file_extension": ".py",
   "mimetype": "text/x-python",
   "name": "python",
   "nbconvert_exporter": "python",
   "pygments_lexer": "ipython3",
   "version": "3.12.9"
  }
 },
 "nbformat": 4,
 "nbformat_minor": 5
}
